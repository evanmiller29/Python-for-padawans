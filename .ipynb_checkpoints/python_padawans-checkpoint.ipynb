{
 "cells": [
  {
   "cell_type": "markdown",
   "metadata": {},
   "source": [
    "# Python for Padawans\n",
    "\n",
    "This tutorial will go throughthe basic data wrangling workflow I'm sure you all love to hate, in Python! \n",
    "FYI: I come from a R background (aka I'm not a proper programmer) so if you see any formatting issues please cut me a bit of slack. \n",
    "\n",
    "**The aim for this post is to show people how to easily move their R workflows to Python (especially pandas/scikit)**\n",
    "\n",
    "One thing I especially like is how consistent all the functions are. You don't need to switch up style like you have to when you move from base R to dplyr etc. \n",
    "|\n",
    "And also, it's apparently much easier to push code to production using Python than R. So there's that. \n",
    "\n",
    "Without further ado lets load all our packages"
   ]
  },
  {
   "cell_type": "code",
   "execution_count": 1,
   "metadata": {
    "collapsed": true
   },
   "outputs": [],
   "source": [
    "%matplotlib inline\n",
    "import os\n",
    "import pandas as pd\n",
    "from matplotlib import pyplot as plt\n",
    "import numpy as np\n",
    "import math"
   ]
  },
  {
   "cell_type": "markdown",
   "metadata": {},
   "source": [
    "#### Don't forget that %matplotlib function. Otherwise your graphs will pop up in separate windows and stop the execution of further cells. And nobody got time for that."
   ]
  },
  {
   "cell_type": "code",
   "execution_count": null,
   "metadata": {
    "collapsed": true
   },
   "outputs": [],
   "source": [
    "data = pd.read_csv('../input/loan.csv', low_memory=False)\n",
    "data.drop(['id', 'member_id', 'emp_title'], axis=1, inplace=True)\n",
    "\n",
    "data.replace('n/a', np.nan,inplace=True)\n",
    "data.emp_length.fillna(value=0,inplace=True)\n",
    "data['emp_length'].replace(to_replace='[^0-9]+', value='', inplace=True, regex=True)\n",
    "data['emp_length'] = data['emp_length'].astype(int)"
   ]
  },
  {
   "cell_type": "markdown",
   "metadata": {},
   "source": [
    "Now let's make some pretty graphs. Coming from R I definitely prefer ggplot2 but the more I use Seaborn, the more I like it. If you kinda forget about adding \"+\" to your graphs and instead use the dot operator, it does essentially the same stuff.\n",
    "\n",
    "**And I've just found out that you can create your own style sheets to make life easier. Wahoo!**\n",
    "\n",
    "But anyway, below I'll show you how to format a decent looking Seaborn graph, as well as how to summarise a given dataframe."
   ]
  },
  {
   "cell_type": "code",
   "execution_count": null,
   "metadata": {
    "collapsed": true
   },
   "outputs": [],
   "source": [
    "import seaborn as sns\n",
    "import matplotlib\n",
    "\n",
    "s = pd.value_counts(data['emp_length']).to_frame().reset_index()\n",
    "s.columns = ['type', 'count']\n",
    "\n",
    "def emp_dur_graph(graph_title):\n",
    "\n",
    "    sns.set_style(\"whitegrid\")\n",
    "    ax = sns.barplot(y = \"count\", x = 'type', data=s)\n",
    "    ax.set(xlabel = '', ylabel = '', title = graph_title)\n",
    "    ax.get_yaxis().set_major_formatter(\n",
    "    matplotlib.ticker.FuncFormatter(lambda x, p: format(int(x), ',')))\n",
    "    _ = ax.set_xticklabels(ax.get_xticklabels(), rotation=0)\n",
    "    \n",
    "emp_dur_graph('Distribution of employment length for issued loans')"
   ]
  },
  {
   "cell_type": "markdown",
   "metadata": {},
   "source": [
    "Now before we move on, we'll look at using style sheets to customize our graphs nice and quickly."
   ]
  },
  {
   "cell_type": "code",
   "execution_count": null,
   "metadata": {
    "collapsed": true
   },
   "outputs": [],
   "source": [
    "import seaborn as sns\n",
    "import matplotlib\n",
    "\n",
    "print (plt.style.available)"
   ]
  },
  {
   "cell_type": "markdown",
   "metadata": {},
   "source": [
    "Now you can see that we've got quite a few to play with. I'm going to focus on the following styles:\n",
    "\n",
    "- fivethirtyeight (because it's my fav website)\n",
    "- seaborn-notebook\n",
    "- ggplot\n",
    "- classic"
   ]
  },
  {
   "cell_type": "code",
   "execution_count": null,
   "metadata": {
    "collapsed": true
   },
   "outputs": [],
   "source": [
    "import seaborn as sns\n",
    "import matplotlib\n",
    "\n",
    "plt.style.use('fivethirtyeight')\n",
    "ax = emp_dur_graph('Fivethirty eight style')"
   ]
  },
  {
   "cell_type": "code",
   "execution_count": null,
   "metadata": {
    "collapsed": true
   },
   "outputs": [],
   "source": [
    "plt.style.use('seaborn-notebook')\n",
    "ax = emp_dur_graph('Seaborn-notebook style')"
   ]
  },
  {
   "cell_type": "code",
   "execution_count": null,
   "metadata": {
    "collapsed": true
   },
   "outputs": [],
   "source": [
    "plt.style.use('ggplot')\n",
    "ax = emp_dur_graph('ggplot style')"
   ]
  },
  {
   "cell_type": "code",
   "execution_count": null,
   "metadata": {
    "collapsed": true
   },
   "outputs": [],
   "source": [
    "plt.style.use('classic')\n",
    "ax = emp_dur_graph('classic style')"
   ]
  },
  {
   "cell_type": "markdown",
   "metadata": {},
   "source": [
    "Now we want to looking at datetimes. Dates can be quite difficult to manipulate but it's worth the wait. Once they're formatted correctly life becomes much easier"
   ]
  },
  {
   "cell_type": "code",
   "execution_count": null,
   "metadata": {
    "collapsed": true
   },
   "outputs": [],
   "source": [
    "import datetime\n",
    "\n",
    "data.issue_d.fillna(value=np.nan,inplace=True)\n",
    "issue_d_todate = pd.to_datetime(data.issue_d)\n",
    "data.issue_d = pd.Series(data.issue_d).str.replace('-2015', '')\n",
    "data.emp_length.fillna(value=np.nan,inplace=True)\n",
    "\n",
    "data.drop(['loan_status'],1, inplace=True)\n",
    "\n",
    "data.drop(['pymnt_plan','url','desc','title' ],1, inplace=True)\n",
    "\n",
    "data.earliest_cr_line = pd.to_datetime(data.earliest_cr_line)\n",
    "import datetime as dt\n",
    "data.earlilest_cr_line_year = data['earliest_cr_line'].dt.year"
   ]
  },
  {
   "cell_type": "markdown",
   "metadata": {},
   "source": [
    "Now I'll show you how you can build on the above data frame summaries as well as make some facet graphs."
   ]
  },
  {
   "cell_type": "code",
   "execution_count": null,
   "metadata": {
    "collapsed": true
   },
   "outputs": [],
   "source": [
    "import seaborn as sns\n",
    "import matplotlib.pyplot as plt\n",
    "\n",
    "s = pd.value_counts(data['earliest_cr_line']).to_frame().reset_index()\n",
    "s.columns = ['date', 'count']\n",
    "\n",
    "s['year'] = s['date'].dt.year\n",
    "s['month'] = s['date'].dt.month\n",
    "\n",
    "d = s[s['year'] > 2008]\n",
    "\n",
    "plt.rcParams.update(plt.rcParamsDefault)\n",
    "sns.set_style(\"whitegrid\")\n",
    "\n",
    "g = sns.FacetGrid(d, col=\"year\")\n",
    "g = g.map(sns.pointplot, \"month\", \"count\")\n",
    "g.set(xlabel = 'Month', ylabel = '')\n",
    "axes = plt.gca()\n",
    "_ = axes.set_ylim([0, d.year.max()])\n",
    "plt.tight_layout()"
   ]
  },
  {
   "cell_type": "markdown",
   "metadata": {},
   "source": [
    "Now I want to show you how to easily drop columns that match a given pattern. Let's drop any column that includes \"mths\" in it."
   ]
  },
  {
   "cell_type": "code",
   "execution_count": null,
   "metadata": {
    "collapsed": true
   },
   "outputs": [],
   "source": [
    "mths = [s for s in data.columns.values if \"mths\" in s]\n",
    "mths\n",
    "\n",
    "data.drop(mths, axis=1, inplace=True)"
   ]
  },
  {
   "cell_type": "code",
   "execution_count": null,
   "metadata": {
    "collapsed": true
   },
   "outputs": [],
   "source": [
    "#1. Using groupby statements with their different calcs\n",
    "\n",
    "group = data.groupby('grade').agg([np.mean])\n",
    "loan_amt_mean = group['loan_amnt'].reset_index()\n",
    "\n",
    "import seaborn as sns\n",
    "import matplotlib\n",
    "\n",
    "plt.style.use('fivethirtyeight')\n",
    "\n",
    "sns.set_style(\"whitegrid\")\n",
    "ax = sns.barplot(y = \"mean\", x = 'grade', data=loan_amt_mean)\n",
    "ax.set(xlabel = '', ylabel = '', title = 'Average amount loaned, by loan grade')\n",
    "ax.get_yaxis().set_major_formatter(\n",
    "matplotlib.ticker.FuncFormatter(lambda x, p: format(int(x), ',')))\n",
    "_ = ax.set_xticklabels(ax.get_xticklabels(), rotation=0)"
   ]
  },
  {
   "cell_type": "code",
   "execution_count": null,
   "metadata": {
    "collapsed": true
   },
   "outputs": [],
   "source": [
    "filtered  = data[data['earliest_cr_line_year'] > 2008]\n",
    "group = filtered.groupby(['grade', 'earliest_cr_line_year']).agg([np.mean])\n",
    "\n",
    "graph_df = group['int_rate'].reset_index()\n",
    "\n",
    "import seaborn as sns\n",
    "import matplotlib\n",
    "\n",
    "plt.style.use('fivethirtyeight')\n",
    "plt.suptitle('bold figure suptitle', fontsize=14, fontweight='bold')\n",
    "\n",
    "sns.set_style(\"whitegrid\")\n",
    "g = sns.FacetGrid(graph_df, col=\"grade\", col_wrap = 3)\n",
    "g = g.map(sns.pointplot, \"earliest_cr_line_year\", \"mean\")\n",
    "g.set(xlabel = 'Year', ylabel = '')\n",
    "axes = plt.gca()\n",
    "axes.set_ylim([0, graph_df['mean'].max()])\n",
    "_ = plt.tight_layout()"
   ]
  },
  {
   "cell_type": "markdown",
   "metadata": {},
   "source": [
    "Things to be covered in future updates:\n",
    "\n",
    "1. Handling missing values, going from just mean replacement all the way to k means\n",
    "2. df.describe\n",
    "3. Using the apply and vectorised functions\n",
    "4. Converting a dataframe to a numpy/sklean useful format\n",
    "5. Running a simple regression model"
   ]
  },
  {
   "cell_type": "code",
   "execution_count": null,
   "metadata": {
    "collapsed": true
   },
   "outputs": [],
   "source": []
  }
 ],
 "metadata": {
  "kernelspec": {
   "display_name": "Python 2",
   "language": "python",
   "name": "python2"
  },
  "language_info": {
   "codemirror_mode": {
    "name": "ipython",
    "version": 2
   },
   "file_extension": ".py",
   "mimetype": "text/x-python",
   "name": "python",
   "nbconvert_exporter": "python",
   "pygments_lexer": "ipython2",
   "version": "2.7.11"
  }
 },
 "nbformat": 4,
 "nbformat_minor": 0
}
